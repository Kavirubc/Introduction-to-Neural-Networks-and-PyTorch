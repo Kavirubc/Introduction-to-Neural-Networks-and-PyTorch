{
 "cells": [
  {
   "cell_type": "code",
   "execution_count": 1,
   "metadata": {},
   "outputs": [],
   "source": [
    "import torch\n",
    "import numpy as np \n",
    "import pandas as pd \n",
    "import matplotlib.pyplot as plt"
   ]
  },
  {
   "cell_type": "code",
   "execution_count": 7,
   "metadata": {},
   "outputs": [
    {
     "name": "stdout",
     "output_type": "stream",
     "text": [
      "List [[1, 2, 3], [3, 4, 5], [5, 6, 7]]\n",
      "\n",
      "Tensor tensor([[1., 2., 3.],\n",
      "        [3., 4., 5.],\n",
      "        [5., 6., 7.]])\n"
     ]
    }
   ],
   "source": [
    "list = [[1,2,3],[3,4,5],[5,6,7]]\n",
    "a = torch.Tensor(list)\n",
    "\n",
    "print(\"List \"+ str(list))\n",
    "print(\"\")\n",
    "print(\"Tensor \"+ str(a))\n"
   ]
  },
  {
   "cell_type": "code",
   "execution_count": null,
   "metadata": {},
   "outputs": [
    {
     "name": "stdout",
     "output_type": "stream",
     "text": [
      "2\n",
      "Shape is torch.Size([3, 3])\n",
      "Number of elemets is 9\n"
     ]
    }
   ],
   "source": [
    "print(a.ndimension())\n",
    "print(\"Shape is \"+str(a.size()))\n",
    "print(\"Number of elemets is \"+ str(a.numel()))"
   ]
  },
  {
   "cell_type": "code",
   "execution_count": 20,
   "metadata": {},
   "outputs": [
    {
     "name": "stdout",
     "output_type": "stream",
     "text": [
      "tensor([[1., 2.],\n",
      "        [2., 3.]])\n",
      "tensor([[4., 5.],\n",
      "        [5., 6.]])\n",
      "Multiple is tensor([[ 4., 10.],\n",
      "        [10., 18.]])\n"
     ]
    }
   ],
   "source": [
    "x = torch.Tensor([[1,2],[2,3]])\n",
    "y = torch.Tensor([[4,5],[5,6]])\n",
    "\n",
    "z = x*y\n",
    "print(x)\n",
    "print(y)\n",
    "print(\"Multiple is \"+str(z))"
   ]
  },
  {
   "cell_type": "code",
   "execution_count": 22,
   "metadata": {},
   "outputs": [
    {
     "name": "stdout",
     "output_type": "stream",
     "text": [
      "tensor([[ 5.,  8., 11.],\n",
      "        [ 8., 13., 18.],\n",
      "        [14., 23., 32.]])\n"
     ]
    }
   ],
   "source": [
    "a = torch.Tensor([[1,2],[2,3],[4,5]])\n",
    "b = torch.Tensor([[1,2,3],[2,3,4]])\n",
    "\n",
    "c = torch.mm(a,b)\n",
    "\n",
    "print(c)"
   ]
  },
  {
   "cell_type": "code",
   "execution_count": null,
   "metadata": {},
   "outputs": [],
   "source": []
  }
 ],
 "metadata": {
  "kernelspec": {
   "display_name": "base",
   "language": "python",
   "name": "python3"
  },
  "language_info": {
   "codemirror_mode": {
    "name": "ipython",
    "version": 3
   },
   "file_extension": ".py",
   "mimetype": "text/x-python",
   "name": "python",
   "nbconvert_exporter": "python",
   "pygments_lexer": "ipython3",
   "version": "3.12.7"
  }
 },
 "nbformat": 4,
 "nbformat_minor": 2
}
