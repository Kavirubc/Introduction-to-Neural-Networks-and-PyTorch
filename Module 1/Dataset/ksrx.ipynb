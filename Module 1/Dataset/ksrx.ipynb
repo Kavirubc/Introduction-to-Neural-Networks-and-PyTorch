{
 "cells": [
  {
   "cell_type": "code",
   "execution_count": 1,
   "metadata": {},
   "outputs": [
    {
     "data": {
      "text/plain": [
       "<torch._C.Generator at 0x14053dbf0>"
      ]
     },
     "execution_count": 1,
     "metadata": {},
     "output_type": "execute_result"
    }
   ],
   "source": [
    "import torch\n",
    "from torch.utils.data import Dataset\n",
    "torch.manual_seed(1)"
   ]
  },
  {
   "cell_type": "code",
   "execution_count": 11,
   "metadata": {},
   "outputs": [],
   "source": [
    "class toy_set(Dataset):\n",
    "\n",
    "    def __init__(self, length = 100, transform = None):\n",
    "        self.len = length\n",
    "        self.x = 2 * torch.ones(length,2)\n",
    "        self.y = 2 * torch.ones(length,1)\n",
    "        self.transform = transform\n",
    "\n",
    "    def __getitem__(self,index):\n",
    "        sample = self.x[index], self.y[index]\n",
    "        if self.transform:\n",
    "            sample = self.transform(sample)\n",
    "        return sample\n",
    "        \n",
    "    def __len__(self):\n",
    "        return self.len\n",
    "        "
   ]
  },
  {
   "cell_type": "code",
   "execution_count": 12,
   "metadata": {},
   "outputs": [
    {
     "name": "stdout",
     "output_type": "stream",
     "text": [
      "Object  <__main__.toy_set object at 0x1657f62d0>\n",
      "Zero index (tensor([2., 2.]), tensor([2.]))\n",
      "100\n"
     ]
    }
   ],
   "source": [
    "our_dataset = toy_set()\n",
    "print(\"Object \",our_dataset)\n",
    "print(\"Zero index\", our_dataset[0])\n",
    "print(len(our_dataset))"
   ]
  },
  {
   "cell_type": "code",
   "execution_count": 13,
   "metadata": {},
   "outputs": [
    {
     "name": "stdout",
     "output_type": "stream",
     "text": [
      "Index:  0  and X is  tensor([2., 2.]) and Y is  tensor([2.])\n",
      "Index:  1  and X is  tensor([2., 2.]) and Y is  tensor([2.])\n",
      "Index:  2  and X is  tensor([2., 2.]) and Y is  tensor([2.])\n"
     ]
    }
   ],
   "source": [
    "for i in range(3):\n",
    "    x,y = our_dataset[i]\n",
    "    print(\"Index: \",i,\" and X is \",x, \"and Y is \",y)"
   ]
  },
  {
   "cell_type": "code",
   "execution_count": null,
   "metadata": {},
   "outputs": [],
   "source": [
    "for x,y in our_dataset:\n",
    "    print(\"x: \",x, \"Y: \", y)"
   ]
  },
  {
   "cell_type": "code",
   "execution_count": 18,
   "metadata": {},
   "outputs": [
    {
     "name": "stdout",
     "output_type": "stream",
     "text": [
      "50\n",
      "x:  tensor([2., 2.]) Y:  tensor([2.])\n",
      "x:  tensor([2., 2.]) Y:  tensor([2.])\n",
      "x:  tensor([2., 2.]) Y:  tensor([2.])\n",
      "x:  tensor([2., 2.]) Y:  tensor([2.])\n",
      "x:  tensor([2., 2.]) Y:  tensor([2.])\n",
      "x:  tensor([2., 2.]) Y:  tensor([2.])\n",
      "x:  tensor([2., 2.]) Y:  tensor([2.])\n",
      "x:  tensor([2., 2.]) Y:  tensor([2.])\n",
      "x:  tensor([2., 2.]) Y:  tensor([2.])\n",
      "x:  tensor([2., 2.]) Y:  tensor([2.])\n",
      "x:  tensor([2., 2.]) Y:  tensor([2.])\n",
      "x:  tensor([2., 2.]) Y:  tensor([2.])\n",
      "x:  tensor([2., 2.]) Y:  tensor([2.])\n",
      "x:  tensor([2., 2.]) Y:  tensor([2.])\n",
      "x:  tensor([2., 2.]) Y:  tensor([2.])\n",
      "x:  tensor([2., 2.]) Y:  tensor([2.])\n",
      "x:  tensor([2., 2.]) Y:  tensor([2.])\n",
      "x:  tensor([2., 2.]) Y:  tensor([2.])\n",
      "x:  tensor([2., 2.]) Y:  tensor([2.])\n",
      "x:  tensor([2., 2.]) Y:  tensor([2.])\n",
      "x:  tensor([2., 2.]) Y:  tensor([2.])\n",
      "x:  tensor([2., 2.]) Y:  tensor([2.])\n",
      "x:  tensor([2., 2.]) Y:  tensor([2.])\n",
      "x:  tensor([2., 2.]) Y:  tensor([2.])\n",
      "x:  tensor([2., 2.]) Y:  tensor([2.])\n",
      "x:  tensor([2., 2.]) Y:  tensor([2.])\n",
      "x:  tensor([2., 2.]) Y:  tensor([2.])\n",
      "x:  tensor([2., 2.]) Y:  tensor([2.])\n",
      "x:  tensor([2., 2.]) Y:  tensor([2.])\n",
      "x:  tensor([2., 2.]) Y:  tensor([2.])\n",
      "x:  tensor([2., 2.]) Y:  tensor([2.])\n",
      "x:  tensor([2., 2.]) Y:  tensor([2.])\n",
      "x:  tensor([2., 2.]) Y:  tensor([2.])\n",
      "x:  tensor([2., 2.]) Y:  tensor([2.])\n",
      "x:  tensor([2., 2.]) Y:  tensor([2.])\n",
      "x:  tensor([2., 2.]) Y:  tensor([2.])\n",
      "x:  tensor([2., 2.]) Y:  tensor([2.])\n",
      "x:  tensor([2., 2.]) Y:  tensor([2.])\n",
      "x:  tensor([2., 2.]) Y:  tensor([2.])\n",
      "x:  tensor([2., 2.]) Y:  tensor([2.])\n",
      "x:  tensor([2., 2.]) Y:  tensor([2.])\n",
      "x:  tensor([2., 2.]) Y:  tensor([2.])\n",
      "x:  tensor([2., 2.]) Y:  tensor([2.])\n",
      "x:  tensor([2., 2.]) Y:  tensor([2.])\n",
      "x:  tensor([2., 2.]) Y:  tensor([2.])\n",
      "x:  tensor([2., 2.]) Y:  tensor([2.])\n",
      "x:  tensor([2., 2.]) Y:  tensor([2.])\n",
      "x:  tensor([2., 2.]) Y:  tensor([2.])\n",
      "x:  tensor([2., 2.]) Y:  tensor([2.])\n",
      "x:  tensor([2., 2.]) Y:  tensor([2.])\n"
     ]
    }
   ],
   "source": [
    "new_dataset = toy_set(length=50)\n",
    "print(len(new_dataset))\n",
    "\n",
    "for x,y in new_dataset:\n",
    "    print(\"x: \",x, \"Y: \", y)"
   ]
  },
  {
   "cell_type": "code",
   "execution_count": 20,
   "metadata": {},
   "outputs": [],
   "source": [
    "class add_mult(object):\n",
    "    def __init__(self, addx =1, muly=2):\n",
    "        self.addx = addx\n",
    "        self.muly = muly\n",
    "    \n",
    "    def __call__(self, sample):\n",
    "        x = sample[0]\n",
    "        y = sample[1]\n",
    "        x = x + self.addx\n",
    "        y =  y * self.muly\n",
    "\n",
    "        sample = x,y\n",
    "        return sample\n",
    "        "
   ]
  },
  {
   "cell_type": "code",
   "execution_count": 21,
   "metadata": {},
   "outputs": [],
   "source": [
    "a_m = add_mult()\n",
    "data_set = toy_set()"
   ]
  },
  {
   "cell_type": "code",
   "execution_count": 22,
   "metadata": {},
   "outputs": [
    {
     "name": "stdout",
     "output_type": "stream",
     "text": [
      "Index:  0 Original x:  tensor([2., 2.]) Original y:  tensor([2.])\n",
      "Index:  0 Transformed x_: tensor([3., 3.]) Transformed y_: tensor([4.])\n",
      "Index:  1 Original x:  tensor([2., 2.]) Original y:  tensor([2.])\n",
      "Index:  1 Transformed x_: tensor([3., 3.]) Transformed y_: tensor([4.])\n",
      "Index:  2 Original x:  tensor([2., 2.]) Original y:  tensor([2.])\n",
      "Index:  2 Transformed x_: tensor([3., 3.]) Transformed y_: tensor([4.])\n",
      "Index:  3 Original x:  tensor([2., 2.]) Original y:  tensor([2.])\n",
      "Index:  3 Transformed x_: tensor([3., 3.]) Transformed y_: tensor([4.])\n",
      "Index:  4 Original x:  tensor([2., 2.]) Original y:  tensor([2.])\n",
      "Index:  4 Transformed x_: tensor([3., 3.]) Transformed y_: tensor([4.])\n",
      "Index:  5 Original x:  tensor([2., 2.]) Original y:  tensor([2.])\n",
      "Index:  5 Transformed x_: tensor([3., 3.]) Transformed y_: tensor([4.])\n",
      "Index:  6 Original x:  tensor([2., 2.]) Original y:  tensor([2.])\n",
      "Index:  6 Transformed x_: tensor([3., 3.]) Transformed y_: tensor([4.])\n",
      "Index:  7 Original x:  tensor([2., 2.]) Original y:  tensor([2.])\n",
      "Index:  7 Transformed x_: tensor([3., 3.]) Transformed y_: tensor([4.])\n",
      "Index:  8 Original x:  tensor([2., 2.]) Original y:  tensor([2.])\n",
      "Index:  8 Transformed x_: tensor([3., 3.]) Transformed y_: tensor([4.])\n",
      "Index:  9 Original x:  tensor([2., 2.]) Original y:  tensor([2.])\n",
      "Index:  9 Transformed x_: tensor([3., 3.]) Transformed y_: tensor([4.])\n"
     ]
    }
   ],
   "source": [
    "for i in range(10):\n",
    "    x,y  = data_set[i]\n",
    "    print('Index: ', i, 'Original x: ', x, 'Original y: ', y)\n",
    "    x_,y_ = a_m(data_set[i])\n",
    "    print('Index: ', i, 'Transformed x_:', x_, 'Transformed y_:', y_)"
   ]
  },
  {
   "cell_type": "code",
   "execution_count": 23,
   "metadata": {},
   "outputs": [],
   "source": [
    "cust_data_set = toy_set(transform=a_m)\n",
    "\n"
   ]
  },
  {
   "cell_type": "code",
   "execution_count": 24,
   "metadata": {},
   "outputs": [
    {
     "name": "stdout",
     "output_type": "stream",
     "text": [
      "Index:  0 Original x:  tensor([2., 2.]) Original y:  tensor([2.])\n",
      "Index:  0 Transformed x_: tensor([3., 3.]) Transformed y_: tensor([4.])\n",
      "Index:  1 Original x:  tensor([2., 2.]) Original y:  tensor([2.])\n",
      "Index:  1 Transformed x_: tensor([3., 3.]) Transformed y_: tensor([4.])\n",
      "Index:  2 Original x:  tensor([2., 2.]) Original y:  tensor([2.])\n",
      "Index:  2 Transformed x_: tensor([3., 3.]) Transformed y_: tensor([4.])\n",
      "Index:  3 Original x:  tensor([2., 2.]) Original y:  tensor([2.])\n",
      "Index:  3 Transformed x_: tensor([3., 3.]) Transformed y_: tensor([4.])\n",
      "Index:  4 Original x:  tensor([2., 2.]) Original y:  tensor([2.])\n",
      "Index:  4 Transformed x_: tensor([3., 3.]) Transformed y_: tensor([4.])\n",
      "Index:  5 Original x:  tensor([2., 2.]) Original y:  tensor([2.])\n",
      "Index:  5 Transformed x_: tensor([3., 3.]) Transformed y_: tensor([4.])\n",
      "Index:  6 Original x:  tensor([2., 2.]) Original y:  tensor([2.])\n",
      "Index:  6 Transformed x_: tensor([3., 3.]) Transformed y_: tensor([4.])\n",
      "Index:  7 Original x:  tensor([2., 2.]) Original y:  tensor([2.])\n",
      "Index:  7 Transformed x_: tensor([3., 3.]) Transformed y_: tensor([4.])\n",
      "Index:  8 Original x:  tensor([2., 2.]) Original y:  tensor([2.])\n",
      "Index:  8 Transformed x_: tensor([3., 3.]) Transformed y_: tensor([4.])\n",
      "Index:  9 Original x:  tensor([2., 2.]) Original y:  tensor([2.])\n",
      "Index:  9 Transformed x_: tensor([3., 3.]) Transformed y_: tensor([4.])\n"
     ]
    }
   ],
   "source": [
    "for i in range(10):\n",
    "    x,y = data_set[i]\n",
    "    print('Index: ', i, 'Original x: ', x, 'Original y: ', y)\n",
    "    x_, y_ = cust_data_set[i]\n",
    "    print('Index: ', i, 'Transformed x_:', x_, 'Transformed y_:', y_)"
   ]
  },
  {
   "cell_type": "code",
   "execution_count": 26,
   "metadata": {},
   "outputs": [
    {
     "name": "stdout",
     "output_type": "stream",
     "text": [
      "tensor([7., 7.]) tensor([2.6667])\n",
      "tensor([7., 7.]) tensor([2.6667])\n",
      "tensor([7., 7.]) tensor([2.6667])\n"
     ]
    }
   ],
   "source": [
    "#Create a new transform class my_add_mult\n",
    "class my_add_mult(object):\n",
    "    \n",
    "    def __init__(self, addx = 2,muly = 3):\n",
    "        self.addx = addx\n",
    "        self.muly = muly\n",
    "\n",
    "    def __call__(self, sample):\n",
    "        x = sample [0]\n",
    "        y = sample [1]\n",
    "        \n",
    "        x = x + self.addx + self.muly\n",
    "        y = y / self.muly + self.addx\n",
    "\n",
    "        sample = x,y\n",
    "\n",
    "        return sample\n",
    "\n",
    "myam = my_add_mult()\n",
    "test_dataset = toy_set(transform=myam)\n",
    "\n",
    "for i in range(3):\n",
    "    x,y = test_dataset[i]\n",
    "    print(x,y)"
   ]
  },
  {
   "cell_type": "code",
   "execution_count": 27,
   "metadata": {},
   "outputs": [],
   "source": [
    "from torchvision import transforms"
   ]
  },
  {
   "cell_type": "code",
   "execution_count": null,
   "metadata": {},
   "outputs": [],
   "source": []
  }
 ],
 "metadata": {
  "kernelspec": {
   "display_name": "base",
   "language": "python",
   "name": "python3"
  },
  "language_info": {
   "codemirror_mode": {
    "name": "ipython",
    "version": 3
   },
   "file_extension": ".py",
   "mimetype": "text/x-python",
   "name": "python",
   "nbconvert_exporter": "python",
   "pygments_lexer": "ipython3",
   "version": "3.12.7"
  }
 },
 "nbformat": 4,
 "nbformat_minor": 2
}
